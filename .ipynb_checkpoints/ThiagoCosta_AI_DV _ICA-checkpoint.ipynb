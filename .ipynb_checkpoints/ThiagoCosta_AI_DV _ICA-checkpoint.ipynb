{
 "cells": [
  {
   "cell_type": "markdown",
   "metadata": {},
   "source": [
    "# Task1"
   ]
  },
  {
   "cell_type": "markdown",
   "metadata": {},
   "source": [
    "## Scenario 1"
   ]
  },
  {
   "cell_type": "code",
   "execution_count": 1,
   "metadata": {},
   "outputs": [],
   "source": [
    "from constraint import Problem, AllDifferentConstraint\n",
    "from typing import Dict, List"
   ]
  },
  {
   "cell_type": "code",
   "execution_count": 2,
   "metadata": {},
   "outputs": [],
   "source": [
    "class HiringConstraint(AllDifferentConstraint):\n",
    "    def __init__(self, *variables):\n",
    "        super().__init__(*variables)"
   ]
  },
  {
   "cell_type": "code",
   "execution_count": 3,
   "metadata": {},
   "outputs": [],
   "source": [
    "def assign_roles_to_people(solution: Dict[str, str]) -> Dict[str, List[str]]:\n",
    "    role_assignments: Dict[str, List[str]] = {role: [] for role in role.keys()}\n",
    "        \n",
    "    for person, role in solution.items():\n",
    "        role_assignments[role].append(person)\n",
    "        \n",
    "    return role_assignments"
   ]
  },
  {
   "cell_type": "code",
   "execution_count": null,
   "metadata": {},
   "outputs": [],
   "source": [
    "if __name__==\"__main__\":\n",
    "    people: List[str] = [\"Peter\", \"Juan\", \"Jim\", \"Jane\", \"Mary\", \"Bruce\", \"Anita\", \"Ciara\"]\n",
    "    roles: Dict[str, int] = {\n",
    "        \"Python Programmer\": 2,\n",
    "        \"AI Engineer\": 2,\n",
    "        \"Web Designer\": 1,\n",
    "        \"Database Admin\": 1,\n",
    "        \"Systems Engineer\": 1,\n",
    "    }"
   ]
  }
 ],
 "metadata": {
  "kernelspec": {
   "display_name": "Python 3",
   "language": "python",
   "name": "python3"
  },
  "language_info": {
   "codemirror_mode": {
    "name": "ipython",
    "version": 3
   },
   "file_extension": ".py",
   "mimetype": "text/x-python",
   "name": "python",
   "nbconvert_exporter": "python",
   "pygments_lexer": "ipython3",
   "version": "3.8.5"
  }
 },
 "nbformat": 4,
 "nbformat_minor": 4
}
