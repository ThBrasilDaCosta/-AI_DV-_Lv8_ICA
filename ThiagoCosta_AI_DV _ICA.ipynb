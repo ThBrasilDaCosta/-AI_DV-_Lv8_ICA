{
 "cells": [
  {
   "cell_type": "markdown",
   "metadata": {},
   "source": [
    "# Task1"
   ]
  },
  {
   "cell_type": "markdown",
   "metadata": {},
   "source": [
    "## Scenario 1"
   ]
  },
  {
   "cell_type": "code",
   "execution_count": 1,
   "metadata": {},
   "outputs": [],
   "source": [
    "from constraint import Problem, AllDifferentConstraint\n",
    "from typing import Dict, List"
   ]
  },
  {
   "cell_type": "code",
   "execution_count": 2,
   "metadata": {},
   "outputs": [],
   "source": [
    "class HiringConstraint(AllDifferentConstraint):\n",
    "    def __init__(self, *variables):\n",
    "        super().__init__(*variables)"
   ]
  },
  {
   "cell_type": "code",
   "execution_count": 3,
   "metadata": {},
   "outputs": [],
   "source": [
    "def assign_roles_to_people(solution: Dict[str, str]) -> Dict[str, List[str]]:\n",
    "    role_assignments: Dict[str, List[str]] = {role: [] for role in role.keys()}\n",
    "        \n",
    "    for person, role in solution.items():\n",
    "        role_assignments[role].append(person)\n",
    "        \n",
    "    return role_assignments"
   ]
  },
  {
   "cell_type": "code",
   "execution_count": 1,
   "metadata": {},
   "outputs": [
    {
     "ename": "NameError",
     "evalue": "name 'List' is not defined",
     "output_type": "error",
     "traceback": [
      "\u001b[1;31m---------------------------------------------------------------------------\u001b[0m",
      "\u001b[1;31mNameError\u001b[0m                                 Traceback (most recent call last)",
      "\u001b[1;32m<ipython-input-1-d859426c1829>\u001b[0m in \u001b[0;36m<module>\u001b[1;34m\u001b[0m\n\u001b[0;32m      1\u001b[0m \u001b[1;32mif\u001b[0m \u001b[0m__name__\u001b[0m\u001b[1;33m==\u001b[0m\u001b[1;34m\"__main__\"\u001b[0m\u001b[1;33m:\u001b[0m\u001b[1;33m\u001b[0m\u001b[1;33m\u001b[0m\u001b[0m\n\u001b[1;32m----> 2\u001b[1;33m     \u001b[0mpeople\u001b[0m\u001b[1;33m:\u001b[0m \u001b[0mList\u001b[0m\u001b[1;33m[\u001b[0m\u001b[0mstr\u001b[0m\u001b[1;33m]\u001b[0m \u001b[1;33m=\u001b[0m \u001b[1;33m[\u001b[0m\u001b[1;34m\"Peter\"\u001b[0m\u001b[1;33m,\u001b[0m \u001b[1;34m\"Juan\"\u001b[0m\u001b[1;33m,\u001b[0m \u001b[1;34m\"Jim\"\u001b[0m\u001b[1;33m,\u001b[0m \u001b[1;34m\"Jane\"\u001b[0m\u001b[1;33m,\u001b[0m \u001b[1;34m\"Mary\"\u001b[0m\u001b[1;33m,\u001b[0m \u001b[1;34m\"Bruce\"\u001b[0m\u001b[1;33m,\u001b[0m \u001b[1;34m\"Anita\"\u001b[0m\u001b[1;33m,\u001b[0m \u001b[1;34m\"Ciara\"\u001b[0m\u001b[1;33m]\u001b[0m\u001b[1;33m\u001b[0m\u001b[1;33m\u001b[0m\u001b[0m\n\u001b[0m\u001b[0;32m      3\u001b[0m     roles: Dict[str, int] = {\n\u001b[0;32m      4\u001b[0m         \u001b[1;34m\"Python Programmer\"\u001b[0m\u001b[1;33m:\u001b[0m \u001b[1;36m2\u001b[0m\u001b[1;33m,\u001b[0m\u001b[1;33m\u001b[0m\u001b[1;33m\u001b[0m\u001b[0m\n\u001b[0;32m      5\u001b[0m         \u001b[1;34m\"AI Engineer\"\u001b[0m\u001b[1;33m:\u001b[0m \u001b[1;36m2\u001b[0m\u001b[1;33m,\u001b[0m\u001b[1;33m\u001b[0m\u001b[1;33m\u001b[0m\u001b[0m\n",
      "\u001b[1;31mNameError\u001b[0m: name 'List' is not defined"
     ]
    }
   ],
   "source": [
    "if __name__==\"__main__\":\n",
    "    people: List[str] = [\"Peter\", \"Juan\", \"Jim\", \"Jane\", \"Mary\", \"Bruce\", \"Anita\", \"Ciara\"]\n",
    "    roles: Dict[str, int] = {\n",
    "        \"Python Programmer\": 2,\n",
    "        \"AI Engineer\": 2,\n",
    "        \"Web Designer\": 1,\n",
    "        \"Database Admin\": 1,\n",
    "        \"Systems Engineer\": 1,\n",
    "    }\n",
    "    abilities: Dict[str, List[str]] = {\n",
    "    \"Peter\": [\"Python\", \"AI\"],\n",
    "    \"Juan\": [\"Web\", \"AI\"],\n",
    "    \"Jim\": [\"AI\", \"Systems\"],\n",
    "    \"Jane\": [\"Python\", \"Database\"],\n",
    "    \"Mary\": [\"Web\", \"Systems\"],\n",
    "    \"Bruce\": [\"Systems\", \"Python\"],\n",
    "    \"Anita\": [\"Web\", \"AI\"],\n",
    "    \"Ciara\": [\"Python\"]\n",
    "    }\n",
    "    ciara_constraints = {\n",
    "    \"Ciara\": [\"Python\"]\n",
    "    }\n",
    "    problem = Problem()\n",
    "    for person in people:\n",
    "        problem.addVariable(person, list(roles.keys()))\n",
    "    for person, person_constraints in ciara_constraints.items():\n",
    "        for constraint in person_constraints:\n",
    "            if person == \"Ciara\":\n",
    "                problem.addConstraint(lambda selected_role: selected_role == \"Python Programmer\", [person])\n",
    "            else:\n",
    "                problem.addConstraint(lambda x, constraint=constraint: constraint in x, [person])\n",
    "    for person, person_abilities in abilities.items():\n",
    "        problem.addConstraint(HiringConstraint(), [person])\n",
    "    for role, count in roles.items():\n",
    "        if role != \"Ciara\":\n",
    "            problem.addConstraint(lambda *people: sum(role == p for p in people) == count, people)\n",
    "        else:\n",
    "            problem.addConstraint(lambda *people: sum(role == \"Python Programmer\" for role in people) ==3, people)\n",
    "    solutions = problem.getSolutions()\n",
    "    \n",
    "    if not solutions:\n",
    "        print(\"No solutions found!\")\n",
    "    else:\n",
    "        print(f\"Number of solutions found: {len(solutions)}\")\n",
    "        for idx, solution in enumerate(solutions, start=1):\n",
    "            role_assignments = assign_roles_to_people(solution)\n",
    "            print(f\"\\nSolution {idx}:\")\n",
    "            for role, assigned_people in role_assignments.items():\n",
    "                print(f\"{role}: {', '.join(assigned_people)}\")\n",
    "        "
   ]
  },
  {
   "cell_type": "code",
   "execution_count": 5,
   "metadata": {},
   "outputs": [],
   "source": []
  },
  {
   "cell_type": "code",
   "execution_count": 6,
   "metadata": {},
   "outputs": [],
   "source": []
  },
  {
   "cell_type": "code",
   "execution_count": 7,
   "metadata": {},
   "outputs": [],
   "source": []
  },
  {
   "cell_type": "code",
   "execution_count": 8,
   "metadata": {},
   "outputs": [],
   "source": []
  },
  {
   "cell_type": "code",
   "execution_count": null,
   "metadata": {},
   "outputs": [],
   "source": []
  }
 ],
 "metadata": {
  "kernelspec": {
   "display_name": "Python 3",
   "language": "python",
   "name": "python3"
  },
  "language_info": {
   "codemirror_mode": {
    "name": "ipython",
    "version": 3
   },
   "file_extension": ".py",
   "mimetype": "text/x-python",
   "name": "python",
   "nbconvert_exporter": "python",
   "pygments_lexer": "ipython3",
   "version": "3.8.5"
  }
 },
 "nbformat": 4,
 "nbformat_minor": 4
}
